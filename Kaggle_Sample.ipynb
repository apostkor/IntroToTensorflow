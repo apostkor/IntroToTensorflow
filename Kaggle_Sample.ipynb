{
 "cells": [
  {
   "cell_type": "markdown",
   "metadata": {},
   "source": [
    "Kaggle 대회 참가 튜토리얼 \n",
    "== \n",
    "by Sun-il Kim, 2019-01-18\n"
   ]
  },
  {
   "cell_type": "markdown",
   "metadata": {},
   "source": [
    "![JPEG](https://smist08.files.wordpress.com/2017/03/kaggle.jpg)\n",
    "\n",
    "https://www.kaggle.com 에 회원가입을 진행합니다.\n",
    "\n",
    "\n",
    "참고로 휴대폰번호는 한 번 인증하면 다시 쓸 수 없으니 조심하세요."
   ]
  },
  {
   "cell_type": "markdown",
   "metadata": {},
   "source": [
    "https://www.kaggle.com/c/LANL-Earthquake-Prediction/\n",
    "\n",
    "해당 대회에 참가 신청을 진행합니다. "
   ]
  },
  {
   "cell_type": "markdown",
   "metadata": {},
   "source": [
    "https://www.kaggle.com/c/LANL-Earthquake-Prediction/data\n",
    "    \n",
    "이제 대회 참가를 위한 데이터를 전부 받아야 합니다.\n",
    "\n",
    "- train.csv  => 트레이닝에 사용할 데이터입니다. \n",
    "- test.zip  => 나중에 테스트에 사용할 데이터입니다. \n",
    "- sample_sumbission.csv  => 제출에 사용할 포멧이 완벽한 CSV파일입니다. \n",
    "\n",
    "sample_subission.csv를 사용하여 데이터를 입력하고 sumbission.csv 파일을 만들게 됩니다. \n",
    "\n",
    "**Tensorflow-GPU 파일이 아니라 Python3 파일로 노트북을 만들어 주세요.**"
   ]
  },
  {
   "cell_type": "markdown",
   "metadata": {},
   "source": [
    "1.데이터 불러오기\n",
    "=="
   ]
  },
  {
   "cell_type": "code",
   "execution_count": 1,
   "metadata": {},
   "outputs": [],
   "source": [
    "import numpy as np # linear algebra\n",
    "import pandas as pd # data processing, CSV file I/O (e.g. pd.read_csv)"
   ]
  },
  {
   "cell_type": "code",
   "execution_count": 44,
   "metadata": {},
   "outputs": [],
   "source": [
    "import matplotlib.pyplot as plt\n",
    "from tqdm import tqdm\n",
    "from sklearn.preprocessing import StandardScaler\n",
    "from sklearn import svm\n",
    "from sklearn.metrics import mean_absolute_error"
   ]
  },
  {
   "cell_type": "code",
   "execution_count": 3,
   "metadata": {},
   "outputs": [],
   "source": [
    "# train.csv 파일을 노트북파일 옆에 두시면 됩니다. \n",
    "\n",
    "# 트레이닝 데이터를 train 변수에 넣습니다. 포멧을 적절하게 바꿉니다. \n",
    "# 이 부분은 따로 수정하지 않으셔도 됩니다.\n",
    "train = pd.read_csv('./train.csv', dtype={'acoustic_data': np.int16, 'time_to_failure': np.float64})"
   ]
  },
  {
   "cell_type": "markdown",
   "metadata": {},
   "source": [
    "2.데이터 전처리\n",
    "=="
   ]
  },
  {
   "cell_type": "code",
   "execution_count": 4,
   "metadata": {},
   "outputs": [
    {
     "data": {
      "text/html": [
       "<div>\n",
       "<style scoped>\n",
       "    .dataframe tbody tr th:only-of-type {\n",
       "        vertical-align: middle;\n",
       "    }\n",
       "\n",
       "    .dataframe tbody tr th {\n",
       "        vertical-align: top;\n",
       "    }\n",
       "\n",
       "    .dataframe thead th {\n",
       "        text-align: right;\n",
       "    }\n",
       "</style>\n",
       "<table border=\"1\" class=\"dataframe\">\n",
       "  <thead>\n",
       "    <tr style=\"text-align: right;\">\n",
       "      <th></th>\n",
       "      <th>acoustic_data</th>\n",
       "      <th>time_to_failure</th>\n",
       "    </tr>\n",
       "  </thead>\n",
       "  <tbody>\n",
       "    <tr>\n",
       "      <th>0</th>\n",
       "      <td>12</td>\n",
       "      <td>1.4691</td>\n",
       "    </tr>\n",
       "    <tr>\n",
       "      <th>1</th>\n",
       "      <td>6</td>\n",
       "      <td>1.4691</td>\n",
       "    </tr>\n",
       "    <tr>\n",
       "      <th>2</th>\n",
       "      <td>8</td>\n",
       "      <td>1.4691</td>\n",
       "    </tr>\n",
       "    <tr>\n",
       "      <th>3</th>\n",
       "      <td>5</td>\n",
       "      <td>1.4691</td>\n",
       "    </tr>\n",
       "    <tr>\n",
       "      <th>4</th>\n",
       "      <td>8</td>\n",
       "      <td>1.4691</td>\n",
       "    </tr>\n",
       "  </tbody>\n",
       "</table>\n",
       "</div>"
      ],
      "text/plain": [
       "   acoustic_data  time_to_failure\n",
       "0             12           1.4691\n",
       "1              6           1.4691\n",
       "2              8           1.4691\n",
       "3              5           1.4691\n",
       "4              8           1.4691"
      ]
     },
     "execution_count": 4,
     "metadata": {},
     "output_type": "execute_result"
    }
   ],
   "source": [
    "# 트레이닝 데이터가 잘 들어왔는지 획인해 봅시다.\n",
    "train.head()\n",
    "\n",
    "# 데이터를 확인해보니, pandas가 소수점을 표시하지 않는 것을 확인할 수 있습니다."
   ]
  },
  {
   "cell_type": "code",
   "execution_count": 5,
   "metadata": {},
   "outputs": [],
   "source": [
    "# pandas가 모든 소수점을 표시하도록 합니다.\n",
    "pd.options.display.precision = 15"
   ]
  },
  {
   "cell_type": "code",
   "execution_count": 6,
   "metadata": {},
   "outputs": [
    {
     "data": {
      "text/html": [
       "<div>\n",
       "<style scoped>\n",
       "    .dataframe tbody tr th:only-of-type {\n",
       "        vertical-align: middle;\n",
       "    }\n",
       "\n",
       "    .dataframe tbody tr th {\n",
       "        vertical-align: top;\n",
       "    }\n",
       "\n",
       "    .dataframe thead th {\n",
       "        text-align: right;\n",
       "    }\n",
       "</style>\n",
       "<table border=\"1\" class=\"dataframe\">\n",
       "  <thead>\n",
       "    <tr style=\"text-align: right;\">\n",
       "      <th></th>\n",
       "      <th>acoustic_data</th>\n",
       "      <th>time_to_failure</th>\n",
       "    </tr>\n",
       "  </thead>\n",
       "  <tbody>\n",
       "    <tr>\n",
       "      <th>0</th>\n",
       "      <td>12</td>\n",
       "      <td>1.4690999832</td>\n",
       "    </tr>\n",
       "    <tr>\n",
       "      <th>1</th>\n",
       "      <td>6</td>\n",
       "      <td>1.4690999821</td>\n",
       "    </tr>\n",
       "    <tr>\n",
       "      <th>2</th>\n",
       "      <td>8</td>\n",
       "      <td>1.4690999810</td>\n",
       "    </tr>\n",
       "    <tr>\n",
       "      <th>3</th>\n",
       "      <td>5</td>\n",
       "      <td>1.4690999799</td>\n",
       "    </tr>\n",
       "    <tr>\n",
       "      <th>4</th>\n",
       "      <td>8</td>\n",
       "      <td>1.4690999788</td>\n",
       "    </tr>\n",
       "  </tbody>\n",
       "</table>\n",
       "</div>"
      ],
      "text/plain": [
       "   acoustic_data  time_to_failure\n",
       "0             12     1.4690999832\n",
       "1              6     1.4690999821\n",
       "2              8     1.4690999810\n",
       "3              5     1.4690999799\n",
       "4              8     1.4690999788"
      ]
     },
     "execution_count": 6,
     "metadata": {},
     "output_type": "execute_result"
    }
   ],
   "source": [
    "train.head()\n",
    "\n",
    "# 이제 모든 소수점이 표시됩니다."
   ]
  },
  {
   "cell_type": "markdown",
   "metadata": {},
   "source": [
    ">**acoustic_data 는 현재 일어나고 있는 진동 수치입니다.**\n",
    "\n",
    "\n",
    ">**time_to_failure 는 0이되면 지진이 일어나는 순간입니다.**\n",
    "\n",
    "\n",
    "- 때문에 time_to_failure가 점점 줄어들고 있음을 볼 수 있습니다.\n",
    "- 이 두 데이터간의 상관관계를 구하여, 앞으로 언제/얼마나 지진이 일어날 지 예측하는 것 입니다.\n",
    "- 이 데이터에는 총 지진이 11번 일어나는 것으로 알고있습니다."
   ]
  },
  {
   "cell_type": "code",
   "execution_count": 39,
   "metadata": {},
   "outputs": [
    {
     "name": "stderr",
     "output_type": "stream",
     "text": [
      "100%|██████████| 4194/4194 [00:04<00:00, 845.61it/s]\n"
     ]
    }
   ],
   "source": [
    "# 아주 간단한 데이터 전처리를 진행합니다. \n",
    "# 평균, 표준편차, 최대값, 최소값. \n",
    "\n",
    "rows = 150_000\n",
    "segments = int(np.floor(train.shape[0] / rows))\n",
    "\n",
    "# 처리된 데이터가 들어갈 데이터프레임을 만들어줍니다. \n",
    "X_train = pd.DataFrame(index=range(segments), dtype=np.float64,\n",
    "                       columns=['ave', 'std', 'max', 'min'])\n",
    "# 예측할 결과가 들어갈 데이터프레임을 만들어줍니다. \n",
    "y_train = pd.DataFrame(index=range(segments), dtype=np.float64,\n",
    "                       columns=['time_to_failure'])\n",
    "\n",
    "# 데이터를 처리하여 저장합니다. \n",
    "for segment in tqdm(range(segments)):\n",
    "    seg = train.iloc[segment*rows:segment*rows+rows]\n",
    "    x = seg['acoustic_data'].values\n",
    "    y = seg['time_to_failure'].values[-1]\n",
    "    \n",
    "    y_train.loc[segment, 'time_to_failure'] = y\n",
    "    \n",
    "    X_train.loc[segment, 'ave'] = x.mean()\n",
    "    X_train.loc[segment, 'std'] = x.std()\n",
    "    X_train.loc[segment, 'max'] = x.max()\n",
    "    X_train.loc[segment, 'min'] = x.min()"
   ]
  },
  {
   "cell_type": "code",
   "execution_count": 40,
   "metadata": {},
   "outputs": [
    {
     "data": {
      "text/html": [
       "<div>\n",
       "<style scoped>\n",
       "    .dataframe tbody tr th:only-of-type {\n",
       "        vertical-align: middle;\n",
       "    }\n",
       "\n",
       "    .dataframe tbody tr th {\n",
       "        vertical-align: top;\n",
       "    }\n",
       "\n",
       "    .dataframe thead th {\n",
       "        text-align: right;\n",
       "    }\n",
       "</style>\n",
       "<table border=\"1\" class=\"dataframe\">\n",
       "  <thead>\n",
       "    <tr style=\"text-align: right;\">\n",
       "      <th></th>\n",
       "      <th>ave</th>\n",
       "      <th>std</th>\n",
       "      <th>max</th>\n",
       "      <th>min</th>\n",
       "    </tr>\n",
       "  </thead>\n",
       "  <tbody>\n",
       "    <tr>\n",
       "      <th>0</th>\n",
       "      <td>4.884113333333334</td>\n",
       "      <td>5.101089126891323</td>\n",
       "      <td>104.0</td>\n",
       "      <td>-98.0</td>\n",
       "    </tr>\n",
       "    <tr>\n",
       "      <th>1</th>\n",
       "      <td>4.725766666666667</td>\n",
       "      <td>6.588801819164257</td>\n",
       "      <td>181.0</td>\n",
       "      <td>-154.0</td>\n",
       "    </tr>\n",
       "    <tr>\n",
       "      <th>2</th>\n",
       "      <td>4.906393333333333</td>\n",
       "      <td>6.967373808828945</td>\n",
       "      <td>140.0</td>\n",
       "      <td>-106.0</td>\n",
       "    </tr>\n",
       "    <tr>\n",
       "      <th>3</th>\n",
       "      <td>4.902240000000000</td>\n",
       "      <td>6.922282112791032</td>\n",
       "      <td>197.0</td>\n",
       "      <td>-199.0</td>\n",
       "    </tr>\n",
       "    <tr>\n",
       "      <th>4</th>\n",
       "      <td>4.908720000000000</td>\n",
       "      <td>7.301085852684289</td>\n",
       "      <td>145.0</td>\n",
       "      <td>-126.0</td>\n",
       "    </tr>\n",
       "  </tbody>\n",
       "</table>\n",
       "</div>"
      ],
      "text/plain": [
       "                 ave                std    max    min\n",
       "0  4.884113333333334  5.101089126891323  104.0  -98.0\n",
       "1  4.725766666666667  6.588801819164257  181.0 -154.0\n",
       "2  4.906393333333333  6.967373808828945  140.0 -106.0\n",
       "3  4.902240000000000  6.922282112791032  197.0 -199.0\n",
       "4  4.908720000000000  7.301085852684289  145.0 -126.0"
      ]
     },
     "execution_count": 40,
     "metadata": {},
     "output_type": "execute_result"
    }
   ],
   "source": [
    "X_train.head()\n",
    "\n",
    "# 전처리된 데이터를 살펴봅니다."
   ]
  },
  {
   "cell_type": "code",
   "execution_count": 41,
   "metadata": {},
   "outputs": [],
   "source": [
    "# 계속하여 전처리를 진행합니다.\n",
    "# 평균을 제거하고 단위 분산에 맞게 스케일링하여 표준화합니다. \n",
    "\n",
    "scaler = StandardScaler()\n",
    "scaler.fit(X_train)\n",
    "X_train_scaled = scaler.transform(X_train)"
   ]
  },
  {
   "cell_type": "code",
   "execution_count": 42,
   "metadata": {},
   "outputs": [
    {
     "data": {
      "text/plain": [
       "array([[ 1.4241405 , -0.17021358, -0.21819351,  0.19321819],\n",
       "       [ 0.80571603,  0.00473402,  0.06393601, -0.01803727],\n",
       "       [ 1.51115526,  0.0492522 , -0.0862888 ,  0.16303883],\n",
       "       ...,\n",
       "       [ 0.34265275, -0.39124963, -0.36841832,  0.4157909 ],\n",
       "       [-0.21161721, -0.28084016, -0.25483371,  0.1969906 ],\n",
       "       [-0.00415653, -0.37312925, -0.3647543 ,  0.31393559]])"
      ]
     },
     "execution_count": 42,
     "metadata": {},
     "output_type": "execute_result"
    }
   ],
   "source": [
    "X_train_scaled"
   ]
  },
  {
   "cell_type": "markdown",
   "metadata": {},
   "source": [
    "3.데이터 분석\n",
    "=="
   ]
  },
  {
   "cell_type": "code",
   "execution_count": 45,
   "metadata": {},
   "outputs": [],
   "source": [
    "# 가장 간단한 SVM 회귀분석으로 데이터를 분석해보겠습니다.\n",
    "# 아직은 아무 하이퍼파라미터를 추가하지 않았습니다. 디폴트 분석입니다.\n",
    "svm = svm.SVR()\n",
    "\n",
    "# \".fit\" 이란 트레이닝과 같습니다.\n",
    "# \".fit\" 이 트레이닝되면 해당 모델로 \".predict()\" 즉 예측하는 것 입니다.\n",
    "\n",
    "svm.fit(X_train_scaled, y_train.values.flatten())\n",
    "y_pred = svm.predict(X_train_scaled)"
   ]
  },
  {
   "cell_type": "code",
   "execution_count": 55,
   "metadata": {},
   "outputs": [
    {
     "name": "stdout",
     "output_type": "stream",
     "text": [
      "SVR(C=1.0, cache_size=200, coef0=0.0, degree=3, epsilon=0.1,\n",
      "  gamma='auto_deprecated', kernel='rbf', max_iter=-1, shrinking=True,\n",
      "  tol=0.001, verbose=False)\n"
     ]
    }
   ],
   "source": [
    "print (svm)"
   ]
  },
  {
   "cell_type": "markdown",
   "metadata": {},
   "source": [
    "- 지금까지 학습에서는 SVM을 직접 구현하였었으나, \n",
    "- 이처럼 scikit-learn라이브러리를 사용하면 아주 쉽게 한 줄로 처리됨을 볼 수 있습니다.\n",
    "\n",
    "\n",
    "**힌트(?)**\n",
    "- 추가 발전을 위해선 scikit-learn라이브러리를 직접 알아봐야 합니다. \n",
    "- 예를 들어 SVM은 https://scikit-learn.org/stable/modules/svm.html#svm-regression\n",
    "- 위의 링크에서 자세히 설명되어 있습니다.\n",
    "- 다른 종류의 SVM? 어떠한 하이퍼파라미터? 각 하이퍼파라미터를 얼만큼? \n",
    "- 이런 것들을 최소한 이해할 수 있게 금주의 학습이 있었습니다."
   ]
  },
  {
   "cell_type": "code",
   "execution_count": 46,
   "metadata": {},
   "outputs": [
    {
     "data": {
      "image/png": "[encoded data removed]",
      "text/plain": [
       "<Figure size 432x432 with 1 Axes>"
      ]
     },
     "metadata": {
      "needs_background": "light"
     },
     "output_type": "display_data"
    }
   ],
   "source": [
    "# matplotlib으로 그래프를 그려봅니다. \n",
    "\n",
    "plt.figure(figsize=(6, 6))\n",
    "plt.scatter(y_train.values.flatten(), y_pred)\n",
    "plt.xlim(0, 20)\n",
    "plt.ylim(0, 20)\n",
    "plt.xlabel('actual', fontsize=12)\n",
    "plt.ylabel('predicted', fontsize=12)\n",
    "plt.plot([(0, 0), (20, 20)], [(0, 0), (20, 20)])\n",
    "plt.show()"
   ]
  },
  {
   "cell_type": "code",
   "execution_count": 47,
   "metadata": {},
   "outputs": [
    {
     "name": "stdout",
     "output_type": "stream",
     "text": [
      "Score: 2.267\n"
     ]
    }
   ],
   "source": [
    "score = mean_absolute_error(y_train.values.flatten(), y_pred)\n",
    "print(f'Score: {score:0.3f}')"
   ]
  },
  {
   "cell_type": "markdown",
   "metadata": {},
   "source": [
    "- 평균 에러를 구한 것이기 때문에, 낮으면 낮을수록 좋습니다. \n",
    "- 팁이라면, Kaggle에 실제로 제출하면 이것보다 더 좋게 나오기 때문에 \n",
    "- 실제 순위는 훨씬 더 좋을 수 있습니다. \n",
    "- 이 예시만 해도 이미 기준 baseline보다 높아서 벌써 100위권일 듯 하네요?"
   ]
  },
  {
   "cell_type": "markdown",
   "metadata": {},
   "source": [
    "4.Kaggle에 결과 제출\n",
    "=="
   ]
  },
  {
   "cell_type": "markdown",
   "metadata": {},
   "source": [
    "- 먼저 sample_submssion.csv 파일을 노트북 파일 옆에 가져다둡니다.\n",
    "- 이 파일을 기반으로 제출할 파일을 만들게 됩니다.\n",
    "\n",
    "**힌트(?)**\n",
    "- Kaggle 제출은 하루 2번 밖에 되지 않습니다. (아침9시초기화)"
   ]
  },
  {
   "cell_type": "markdown",
   "metadata": {},
   "source": [
    "과정이 살짝 이해가 어려울 수 있습니다. 지금까지의 진행은 이렇게 된것입니다.\n",
    ">1. train.csv를 사용하여 데이터를 전처리하고\n",
    "2. \"svm\" 클레스 안에 .fit을 사용하여 트레이닝을 마쳐두었습니다. \n",
    "3. 이후 트레이닝 데이터에서 최적화가 완료되면 \n",
    "\n",
    "밑의 과정은,\n",
    "\n",
    "\n",
    ">4. test.csv파일들을 데려와 똑같은 데이터프레임을 만들고 \n",
    "5. \"svm\" 클레스 안에 들어있는 훈련된 알고리즘을 가지고 \n",
    "6. 예상 submission.csv 를 만드는 것입니다.\n",
    "7. 그리고 케글에서 그 정확도를 판단합니다. "
   ]
  },
  {
   "cell_type": "code",
   "execution_count": 48,
   "metadata": {},
   "outputs": [],
   "source": [
    "# sample_submission을 토데로 정해진 포멧을 가져옵니다.\n",
    "submission = pd.read_csv('./sample_submission.csv', index_col='seg_id')"
   ]
  },
  {
   "cell_type": "markdown",
   "metadata": {},
   "source": [
    "- test.zip 파일 역시 압축을 풀어서, 폴더 통으로 노트북 파일 옆에 가져다둡니다."
   ]
  },
  {
   "cell_type": "code",
   "execution_count": 50,
   "metadata": {},
   "outputs": [],
   "source": [
    "# 테스트 데이터가 들어갈 데이터프레임을 만들어둡니다.\n",
    "X_test = pd.DataFrame(columns=X_train.columns, dtype=np.float64, index=submission.index)"
   ]
  },
  {
   "cell_type": "code",
   "execution_count": 51,
   "metadata": {},
   "outputs": [],
   "source": [
    "# 테스트 데이터를 트레이닝데이터와 똑같이 처리하여 저장해둡니다. \n",
    "for seg_id in X_test.index:\n",
    "    seg = pd.read_csv('./test/' + seg_id + '.csv')\n",
    "    \n",
    "    x = seg['acoustic_data'].values\n",
    "    \n",
    "    X_test.loc[seg_id, 'ave'] = x.mean()\n",
    "    X_test.loc[seg_id, 'std'] = x.std()\n",
    "    X_test.loc[seg_id, 'max'] = x.max()\n",
    "    X_test.loc[seg_id, 'min'] = x.min()"
   ]
  },
  {
   "cell_type": "code",
   "execution_count": 52,
   "metadata": {},
   "outputs": [],
   "source": [
    "# 테스트 데이터를 트레이닝데이터와 똑같이 처리하여 저장해둡니다. (2)\n",
    "X_test_scaled = scaler.transform(X_test)\n",
    "\n",
    "# \"svm\" 클레스 안에 훈련된 알고리즘을 테스트 데이터에 적용시켜봅니다.\n",
    "submission['time_to_failure'] = svm.predict(X_test_scaled)\n",
    "\n",
    "# 테스트 데이터의 훈련 결과를 submission.csv 파일에 저장합니다.\n",
    "submission.to_csv('submission.csv')"
   ]
  },
  {
   "cell_type": "markdown",
   "metadata": {},
   "source": [
    "- 이제 노트북의 위치에 submission.csv 파일이 생성되었습니다.\n",
    "- 이 파일을, https://www.kaggle.com/c/LANL-Earthquake-Prediction/submit\n",
    "- 해당 링크에 제출하면 완료!\n",
    "\n",
    "\n",
    "- 등수를 카톡에 자랑해 보세요."
   ]
  },
  {
   "cell_type": "code",
   "execution_count": null,
   "metadata": {},
   "outputs": [],
   "source": []
  }
 ],
 "metadata": {
  "kernelspec": {
   "display_name": "Python 3",
   "language": "python",
   "name": "python3"
  },
  "language_info": {
   "codemirror_mode": {
    "name": "ipython",
    "version": 3
   },
   "file_extension": ".py",
   "mimetype": "text/x-python",
   "name": "python",
   "nbconvert_exporter": "python",
   "pygments_lexer": "ipython3",
   "version": "3.6.8"
  }
 },
 "nbformat": 4,
 "nbformat_minor": 2
}
